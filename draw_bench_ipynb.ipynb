{
 "cells": [
  {
   "cell_type": "code",
   "execution_count": null,
   "metadata": {},
   "outputs": [],
   "source": [
    "import json\n",
    "import matplotlib.pyplot as plt\n",
    "\n",
    "benchmarks_count = 9\n",
    "\n",
    "colors = {\n",
    "    'cuckoo'         : 'g',\n",
    "    'tbb'            : 'b',\n",
    "    'cuckoo_seqlock' : 'y',\n",
    "}\n",
    "\n",
    "def draw_plot(json_out):\n",
    "    stats = {}\n",
    "\n",
    "    for benchmark in json_out['benchmarks']:\n",
    "        splitted_name = benchmark['name'].split('/')\n",
    "        splitted_first = splitted_name[0].split('-')\n",
    "\n",
    "        benchmark_name = splitted_first[0]\n",
    "        map_name = splitted_first[1]\n",
    "\n",
    "        threads = int(splitted_name[1])\n",
    "        scenario_size = int(splitted_name[3])\n",
    "        scenarious_generator = int(splitted_name[-4])\n",
    "\n",
    "        operations_amount = scenario_size * threads if scenarious_generator == 0 else scenario_size\n",
    "\n",
    "        key = int(splitted_name[1])\n",
    "\n",
    "        if benchmark_name in stats:\n",
    "            if map_name in stats[benchmark_name]:\n",
    "                stats[benchmark_name][map_name].append((key, operations_amount / benchmark['real_time']))\n",
    "            else:\n",
    "                stats[benchmark_name][map_name] = [(key, operations_amount / benchmark['real_time'])]\n",
    "        else:\n",
    "            stats[benchmark_name] = {map_name : [(key, operations_amount / benchmark['real_time'])]}\n",
    "\n",
    "    fig, axs = plt.subplots(benchmarks_count)\n",
    "    fig.set_size_inches(18.5, 58.5, forward=True)\n",
    "    fig.set_dpi(100)\n",
    "\n",
    "    plot_num = 0\n",
    "    for benchmark_name, map_to_array in stats.items():\n",
    "        axs[plot_num].plot([], [])\n",
    "        axs[plot_num].set_xlabel('threads')\n",
    "        axs[plot_num].set_ylabel('op/ms')\n",
    "\n",
    "        for map_name, array in map_to_array.items():\n",
    "            x = []\n",
    "            y = []\n",
    "            for (threads, real_time) in array:\n",
    "                x.append(threads)\n",
    "                y.append(real_time)\n",
    "\n",
    "            axs[plot_num].plot(x, y, color=colors[map_name], label=map_name)\n",
    "            axs[plot_num].legend()\n",
    "        \n",
    "        axs[plot_num].set_title(benchmark_name)\n",
    "        plot_num += 1\n",
    "    plt.savefig('bench_plot.png')\n",
    "\n",
    "def main():\n",
    "    with open('bench_out.json', 'r') as data:\n",
    "        draw_plot(json.load(data))\n",
    "\n",
    "main()"
   ]
  }
 ],
 "metadata": {
  "kernelspec": {
   "display_name": "Python 3.6.9 64-bit",
   "language": "python",
   "name": "python3"
  },
  "language_info": {
   "codemirror_mode": {
    "name": "ipython",
    "version": 3
   },
   "file_extension": ".py",
   "mimetype": "text/x-python",
   "name": "python",
   "nbconvert_exporter": "python",
   "pygments_lexer": "ipython3",
   "version": "3.10.6"
  },
  "orig_nbformat": 4,
  "vscode": {
   "interpreter": {
    "hash": "31f2aee4e71d21fbe5cf8b01ff0e069b9275f58929596ceb00d14d90e3e16cd6"
   }
  }
 },
 "nbformat": 4,
 "nbformat_minor": 2
}
